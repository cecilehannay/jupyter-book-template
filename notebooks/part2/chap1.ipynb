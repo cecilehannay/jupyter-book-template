{
 "cells": [
  {
   "cell_type": "markdown",
   "id": "103b0f68-99aa-48fe-9b85-f6da309d596d",
   "metadata": {},
   "source": [
    "# Chapter 1\n",
    "\n",
    "This is a placeholder for chapter 1 in Part 2 of the book."
   ]
  }
 ],
 "metadata": {
  "kernelspec": {
   "display_name": "Python 3 (ipykernel)",
   "language": "python",
   "name": "python3"
  },
  "language_info": {
   "codemirror_mode": {
    "name": "ipython",
    "version": 3
   },
   "file_extension": ".py",
   "mimetype": "text/x-python",
   "name": "python",
   "nbconvert_exporter": "python",
   "pygments_lexer": "ipython3",
   "version": "3.9.12"
  }
 },
 "nbformat": 4,
 "nbformat_minor": 5
}
